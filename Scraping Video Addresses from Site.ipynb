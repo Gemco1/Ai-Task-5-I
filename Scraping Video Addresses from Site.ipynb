{
 "cells": [
  {
   "cell_type": "code",
   "execution_count": 1,
   "id": "40e7d77c",
   "metadata": {
    "ExecuteTime": {
     "end_time": "2021-10-04T21:43:15.144757Z",
     "start_time": "2021-10-04T21:43:04.090708Z"
    }
   },
   "outputs": [
    {
     "name": "stdout",
     "output_type": "stream",
     "text": [
      "Python Tutorial: Zip Files – Creating and Extracting Zip Archives\n",
      "\n",
      "In this video, we will be learning how to create and extract zip archives. We will start by using the zipfile module, and then we will see how to do this using the shutil module. We will learn how to do this with single files and directories, as well as learning how to use gzip as well. Let’s get started…\n",
      "\n",
      "https://www.youtube.com/watch?v=z0gguhEmWiY\n",
      "\n",
      "====================================================================================================\n",
      "Python Data Science Tutorial: Analyzing the 2019 Stack Overflow Developer Survey\n",
      "\n",
      "In this Python Programming video, we will be learning how to download and analyze real-world data from the 2019 Stack Overflow Developer Survey. This is terrific practice for anyone getting into the data science field. We will learn different ways to analyze this data and also some best practices. Let’s get started…\n",
      "\n",
      "https://www.youtube.com/watch?v=_P7X8tMplsw\n",
      "\n",
      "====================================================================================================\n",
      "Python Multiprocessing Tutorial: Run Code in Parallel Using the Multiprocessing Module\n",
      "\n",
      "In this Python Programming video, we will be learning how to run code in parallel using the multiprocessing module. We will also look at how to process multiple high-resolution images at the same time using a ProcessPoolExecutor from the concurrent.futures module. Let’s get started…\n",
      "\n",
      "https://www.youtube.com/watch?v=fKl2JW_qrso\n",
      "\n",
      "====================================================================================================\n",
      "Python Threading Tutorial: Run Code Concurrently Using the Threading Module\n",
      "\n",
      "In this Python Programming video, we will be learning how to run threads concurrently using the threading module. We will also look at how to download multiple high-resolution images online using a ThreadPoolExecutor from the concurrent.futures module. Let’s get started…\n",
      "\n",
      "https://www.youtube.com/watch?v=IEEhzQoKtQU\n",
      "\n",
      "====================================================================================================\n",
      "Update (2019-09-03)\n",
      "\n",
      "Hey everyone. I wanted to give you an update on my videos. I will be releasing videos on threading and multiprocessing within the next week. Thanks so much for your patience. I currently have a temporary recording studio setup at my Airbnb that will allow me to record and edit the threading/multiprocessing videos. I am going to be moving into my new house in 10 days and once I have my recording studio setup then you can expect much faster video releases. I really appreciate how patient everyone has been while I go through this move, especially those of you who are contributing monthly through YouTube \n",
      "\n",
      "None\n",
      "\n"
     ]
    }
   ],
   "source": [
    "import requests\n",
    "import bs4\n",
    "import csv\n",
    "\n",
    "\n",
    "link = requests.get('https://coreyms.com/')\n",
    "source = link.content\n",
    "soup = bs4.BeautifulSoup(source, \"html.parser\")\n",
    "\n",
    "scrap_file = open('extract.csv', 'w')\n",
    "csv_writer = csv.writer(scrap_file)\n",
    "csv_writer.writerow(['Title', 'Content', 'Video Link'])\n",
    "articles = soup.find_all('article')\n",
    "i = 1\n",
    "for article in articles:\n",
    "    title = article.h2.a.text\n",
    "    print(title)\n",
    "    print()\n",
    "    \n",
    "    content = article.find('div', class_ = 'entry-content').p.text\n",
    "    print(content)\n",
    "    print()\n",
    "    \n",
    "    try:\n",
    "        video = article.find('iframe', class_ = 'youtube-player')['src']\n",
    "        video_id = video.split('/')\n",
    "        video_id2 = video_id[4].split('?')\n",
    "        sym = video_id2[0]\n",
    "        ytlink = f'https://www.youtube.com/watch?v={sym}'\n",
    "    except:\n",
    "        ytlink = None\n",
    "        \n",
    "    print(ytlink)\n",
    "    print()\n",
    "    \n",
    "    csv_writer.writerow([title, content, ytlink])\n",
    "    \n",
    "    if i == 5:\n",
    "        break\n",
    "    print(\"=\"*100)\n",
    "    i+=1"
   ]
  },
  {
   "cell_type": "code",
   "execution_count": null,
   "id": "89911da2",
   "metadata": {},
   "outputs": [],
   "source": []
  }
 ],
 "metadata": {
  "kernelspec": {
   "display_name": "Python 3",
   "language": "python",
   "name": "python3"
  },
  "language_info": {
   "codemirror_mode": {
    "name": "ipython",
    "version": 3
   },
   "file_extension": ".py",
   "mimetype": "text/x-python",
   "name": "python",
   "nbconvert_exporter": "python",
   "pygments_lexer": "ipython3",
   "version": "3.8.8"
  },
  "varInspector": {
   "cols": {
    "lenName": 16,
    "lenType": 16,
    "lenVar": 40
   },
   "kernels_config": {
    "python": {
     "delete_cmd_postfix": "",
     "delete_cmd_prefix": "del ",
     "library": "var_list.py",
     "varRefreshCmd": "print(var_dic_list())"
    },
    "r": {
     "delete_cmd_postfix": ") ",
     "delete_cmd_prefix": "rm(",
     "library": "var_list.r",
     "varRefreshCmd": "cat(var_dic_list()) "
    }
   },
   "types_to_exclude": [
    "module",
    "function",
    "builtin_function_or_method",
    "instance",
    "_Feature"
   ],
   "window_display": false
  }
 },
 "nbformat": 4,
 "nbformat_minor": 5
}
